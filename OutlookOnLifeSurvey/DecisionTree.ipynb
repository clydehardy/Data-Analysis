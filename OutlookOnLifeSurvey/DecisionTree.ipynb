{
 "cells": [
  {
   "cell_type": "markdown",
   "metadata": {},
   "source": [
    "# Assignment: Running a Classification Tree"
   ]
  },
  {
   "cell_type": "markdown",
   "metadata": {},
   "source": [
    "## Assignment 1 of Machine Learning for Data Analysis"
   ]
  },
  {
   "cell_type": "code",
   "execution_count": 30,
   "metadata": {
    "collapsed": true
   },
   "outputs": [],
   "source": [
    "from pandas import Series, DataFrame\n",
    "import pandas as pd\n",
    "import numpy as np\n",
    "import os\n",
    "import matplotlib.pylab as plt\n",
    "from sklearn.cross_validation import train_test_split\n",
    "from sklearn.tree import DecisionTreeClassifier\n",
    "from sklearn.metrics import classification_report\n",
    "import sklearn.metrics"
   ]
  },
  {
   "cell_type": "markdown",
   "metadata": {},
   "source": [
    "The data set used in this Decision Tree example is the \"U.S. National Epidemiological Survey on Alcohol and Related Conditions\" survey data. From this dataset a subset of the following columns is selected. \n",
    "'S1Q1D5','S1Q2D','S1Q2E','S1Q2F','S1Q6A','S1Q9A','S1Q9B','S1Q9C','DGSTATUS'. This subset of data was then exported and stored on a public dropbox folder and can be read in using the below command."
   ]
  },
  {
   "cell_type": "code",
   "execution_count": 31,
   "metadata": {
    "collapsed": true
   },
   "outputs": [],
   "source": [
    "nesarc_data = pd.read_csv(\"https://dl.dropboxusercontent.com/u/84673878/nesarc_output_cut.csv\")"
   ]
  },
  {
   "cell_type": "markdown",
   "metadata": {},
   "source": [
    "Give the columns meaningful names."
   ]
  },
  {
   "cell_type": "code",
   "execution_count": 32,
   "metadata": {
    "collapsed": true
   },
   "outputs": [],
   "source": [
    "cols = [\"WHITE\",\"PARENTS_SPLIT\",\"SPLIT_AGE\",\"WHICH_PARENT_REMAINED\",\"HIGHEST_GRADE\",\"JOB_INDUSTRY\",\"JOB_TYPE\",\"EMPLOYER_TYPE\",\"DGSTATUS\"]\n",
    "nesarc_data.columns = cols"
   ]
  },
  {
   "cell_type": "markdown",
   "metadata": {},
   "source": [
    "We then add dummy values where we have missing values. This is because the Python Scikit Decision Tree library can not handle missing values at the present time."
   ]
  },
  {
   "cell_type": "code",
   "execution_count": 33,
   "metadata": {
    "collapsed": true
   },
   "outputs": [],
   "source": [
    "#Add dummy variables for missing values\n",
    "row_index = nesarc_data.SPLIT_AGE == \" \"\n",
    "nesarc_data.loc[row_index, 'SPLIT_AGE'] = 999\n",
    "row_index = nesarc_data.WHICH_PARENT_REMAINED == \" \"\n",
    "nesarc_data.loc[row_index, 'WHICH_PARENT_REMAINED'] = 999\n",
    "row_index = nesarc_data.JOB_INDUSTRY == \" \"\n",
    "nesarc_data.loc[row_index, 'JOB_INDUSTRY'] = 999\n",
    "row_index = nesarc_data.JOB_TYPE == \" \"\n",
    "nesarc_data.loc[row_index, 'JOB_TYPE'] = 999\n",
    "row_index = nesarc_data.EMPLOYER_TYPE == \" \"\n",
    "nesarc_data.loc[row_index, 'EMPLOYER_TYPE'] = 999"
   ]
  },
  {
   "cell_type": "code",
   "execution_count": 34,
   "metadata": {
    "collapsed": true
   },
   "outputs": [],
   "source": [
    "#then convert all the columns to numeric\n",
    "nesarc_data[cols] = nesarc_data[cols].apply(pd.to_numeric)"
   ]
  },
  {
   "cell_type": "markdown",
   "metadata": {},
   "source": [
    "Check to see all columns are now a numeric data type."
   ]
  },
  {
   "cell_type": "code",
   "execution_count": 35,
   "metadata": {
    "collapsed": false
   },
   "outputs": [
    {
     "data": {
      "text/plain": [
       "WHITE                    int64\n",
       "PARENTS_SPLIT            int64\n",
       "SPLIT_AGE                int64\n",
       "WHICH_PARENT_REMAINED    int64\n",
       "HIGHEST_GRADE            int64\n",
       "JOB_INDUSTRY             int64\n",
       "JOB_TYPE                 int64\n",
       "EMPLOYER_TYPE            int64\n",
       "DGSTATUS                 int64\n",
       "dtype: object"
      ]
     },
     "execution_count": 35,
     "metadata": {},
     "output_type": "execute_result"
    }
   ],
   "source": [
    "#Check all columns are numeric data types\n",
    "nesarc_data.dtypes"
   ]
  },
  {
   "cell_type": "markdown",
   "metadata": {},
   "source": [
    "Select the predictors from the data."
   ]
  },
  {
   "cell_type": "code",
   "execution_count": 36,
   "metadata": {
    "collapsed": true
   },
   "outputs": [],
   "source": [
    "predictors = nesarc_data[[\"WHITE\",\"PARENTS_SPLIT\",\"SPLIT_AGE\",\"WHICH_PARENT_REMAINED\",\"HIGHEST_GRADE\",\"JOB_INDUSTRY\",\"JOB_TYPE\",\"EMPLOYER_TYPE\"]]"
   ]
  },
  {
   "cell_type": "markdown",
   "metadata": {},
   "source": [
    "Choose the \"Drug Status\" column as the target to predict for."
   ]
  },
  {
   "cell_type": "code",
   "execution_count": 37,
   "metadata": {
    "collapsed": true
   },
   "outputs": [],
   "source": [
    "targets = nesarc_data[[\"DGSTATUS\"]]"
   ]
  },
  {
   "cell_type": "markdown",
   "metadata": {},
   "source": [
    "Do a 60/40 split on the data to create the training and test datasets."
   ]
  },
  {
   "cell_type": "code",
   "execution_count": 38,
   "metadata": {
    "collapsed": true
   },
   "outputs": [],
   "source": [
    "pred_train, pred_test, tar_train, tar_test  =   train_test_split(predictors, targets, test_size=.4)"
   ]
  },
  {
   "cell_type": "markdown",
   "metadata": {},
   "source": [
    "After select various parameters, the ones chosen below seem to work best for the creating the Decision Tree."
   ]
  },
  {
   "cell_type": "code",
   "execution_count": 39,
   "metadata": {
    "collapsed": true
   },
   "outputs": [],
   "source": [
    "#Build model on training data\n",
    "classifier=DecisionTreeClassifier(max_depth = 6, min_samples_split = 10, random_state = 1)\n",
    "classifier=classifier.fit(pred_train,tar_train)"
   ]
  },
  {
   "cell_type": "markdown",
   "metadata": {},
   "source": [
    "Run the prediction on the test data and check how well it performs."
   ]
  },
  {
   "cell_type": "code",
   "execution_count": 40,
   "metadata": {
    "collapsed": false
   },
   "outputs": [
    {
     "data": {
      "text/plain": [
       "array([[    0,     0,   818],\n",
       "       [    0,     1,  2383],\n",
       "       [    0,     6, 11662]])"
      ]
     },
     "execution_count": 40,
     "metadata": {},
     "output_type": "execute_result"
    }
   ],
   "source": [
    "predictions=classifier.predict(pred_test)\n",
    "sklearn.metrics.confusion_matrix(tar_test,predictions)"
   ]
  },
  {
   "cell_type": "code",
   "execution_count": 41,
   "metadata": {
    "collapsed": false
   },
   "outputs": [
    {
     "data": {
      "text/plain": [
       "0.78433086751849357"
      ]
     },
     "execution_count": 41,
     "metadata": {},
     "output_type": "execute_result"
    }
   ],
   "source": [
    "\n",
    "sklearn.metrics.accuracy_score(tar_test, predictions)"
   ]
  }
 ],
 "metadata": {
  "kernelspec": {
   "display_name": "Python 3",
   "language": "python",
   "name": "python3"
  },
  "language_info": {
   "codemirror_mode": {
    "name": "ipython",
    "version": 3
   },
   "file_extension": ".py",
   "mimetype": "text/x-python",
   "name": "python",
   "nbconvert_exporter": "python",
   "pygments_lexer": "ipython3",
   "version": "3.5.1"
  }
 },
 "nbformat": 4,
 "nbformat_minor": 0
}
