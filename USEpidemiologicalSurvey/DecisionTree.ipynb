{
 "cells": [
  {
   "cell_type": "markdown",
   "metadata": {},
   "source": [
    "# Assignment: Running a Classification Tree"
   ]
  },
  {
   "cell_type": "markdown",
   "metadata": {},
   "source": [
    "## Assignment 1 of Machine Learning for Data Analysis"
   ]
  },
  {
   "cell_type": "markdown",
   "metadata": {},
   "source": [
    "<img src=\"DTree3.png\" />\n",
    "## Figure 1. Decision tree"
   ]
  },
  {
   "cell_type": "markdown",
   "metadata": {},
   "source": [
    "It is frequently claimed that children that come from a home where the parents split before they were 18 were more likely to get into trouble with the law because they would have had less support or guiding influence growing up. So in order to test that hypothesis I have chosen a few different predictors to see what would be the likely cause of the target variable, \"drug use\", which would be a good indicator of deviant behaviour and potential trouble with the law.\n",
    "\n",
    "The predictors are, parents splitting before 18, highest grade achived as a proxy for level of intelligence, white as a proxy of ethnicity and job industry and job type to see if any of these factors have any prediction value for the target variable. The variables were applied in this order \"WHITE\",\"PARENTS_SPLIT\",\"HIGHEST_GRADE\",\"JOB_INDUSTRY\",\"JOB_TYPE\".\n",
    "\n",
    "So when reading the above decision tree we see that X[1] which corresponds to the \"Parents Split\" feature was the first feature to separate the sample into two subgroups. At the next node it is split on the \"White\" feature and we have a sample of 3520 presented to that node. Those 3520 are the number of samples presented to the second node which after splitting presents 2603 and 917 samples to the nodes below. For the sample of 2603 the decision tree classifier selects \"Highest Grade\" feature to split on.\n",
    "\n",
    "In summary the decision tree classifier selects the features \"Parents split, White and Higest grade\" as the order in which the best prediction of drug use can be obtained."
   ]
  },
  {
   "cell_type": "markdown",
   "metadata": {},
   "source": [
    "## Python Code"
   ]
  },
  {
   "cell_type": "code",
   "execution_count": 74,
   "metadata": {
    "collapsed": true
   },
   "outputs": [],
   "source": [
    "from pandas import Series, DataFrame\n",
    "import pandas as pd\n",
    "import numpy as np\n",
    "import os\n",
    "import matplotlib.pylab as plt\n",
    "from sklearn.cross_validation import train_test_split\n",
    "from sklearn.tree import DecisionTreeClassifier\n",
    "from sklearn.metrics import classification_report\n",
    "import sklearn.metrics"
   ]
  },
  {
   "cell_type": "markdown",
   "metadata": {},
   "source": [
    "The data set used in this Decision Tree example is the \"U.S. National Epidemiological Survey on Alcohol and Related Conditions\" survey data. From this dataset a subset of the following columns is selected. \n",
    "'S1Q1D5','S1Q2D','S1Q2E','S1Q2F','S1Q6A','S1Q9A','S1Q9B','S1Q9C','DGSTATUS'. This subset of data was then exported and stored on a public dropbox folder and can be read in using the below command."
   ]
  },
  {
   "cell_type": "code",
   "execution_count": 75,
   "metadata": {
    "collapsed": true
   },
   "outputs": [],
   "source": [
    "nesarc_data = pd.read_csv(\"https://dl.dropboxusercontent.com/u/84673878/nesarc_output_cut.csv\")"
   ]
  },
  {
   "cell_type": "markdown",
   "metadata": {},
   "source": [
    "Give the columns meaningful names."
   ]
  },
  {
   "cell_type": "code",
   "execution_count": 76,
   "metadata": {
    "collapsed": true
   },
   "outputs": [],
   "source": [
    "cols = [\"WHITE\",\"PARENTS_SPLIT\",\"SPLIT_AGE\",\"WHICH_PARENT_REMAINED\",\"HIGHEST_GRADE\",\"JOB_INDUSTRY\",\"JOB_TYPE\",\"EMPLOYER_TYPE\",\"DGSTATUS\"]\n",
    "nesarc_data.columns = cols\n",
    "#We just take a subset of that data\n",
    "nesarc_data = nesarc_data[[\"WHITE\",\"PARENTS_SPLIT\",\"HIGHEST_GRADE\",\"JOB_INDUSTRY\",\"JOB_TYPE\",\"DGSTATUS\"]]"
   ]
  },
  {
   "cell_type": "markdown",
   "metadata": {},
   "source": [
    "We then add NaNs where we have missing values. This is because the Python Scikit Decision Tree library can not handle missing values at the present time."
   ]
  },
  {
   "cell_type": "code",
   "execution_count": 77,
   "metadata": {
    "collapsed": true
   },
   "outputs": [],
   "source": [
    "#Add NaN's for missing values\n",
    "row_index = nesarc_data.JOB_INDUSTRY == \" \"\n",
    "nesarc_data.loc[row_index, 'JOB_INDUSTRY'] = np.NaN\n",
    "row_index = nesarc_data.JOB_TYPE == \" \"\n",
    "nesarc_data.loc[row_index, 'JOB_TYPE'] = np.NaN"
   ]
  },
  {
   "cell_type": "markdown",
   "metadata": {},
   "source": [
    "Convert the target to a binary variable, 0 = never used drugs, 1 = current or past drug user"
   ]
  },
  {
   "cell_type": "code",
   "execution_count": 78,
   "metadata": {
    "collapsed": true
   },
   "outputs": [],
   "source": [
    "row_index = nesarc_data.DGSTATUS == 3\n",
    "nesarc_data.loc[row_index, 'DGSTATUS'] = 0\n",
    "row_index = nesarc_data.DGSTATUS == 2\n",
    "nesarc_data.loc[row_index, 'DGSTATUS'] = 1"
   ]
  },
  {
   "cell_type": "code",
   "execution_count": 79,
   "metadata": {
    "collapsed": true
   },
   "outputs": [],
   "source": [
    "#then convert all the columns to numeric\n",
    "cols = [\"WHITE\",\"PARENTS_SPLIT\",\"HIGHEST_GRADE\",\"JOB_INDUSTRY\",\"JOB_TYPE\",\"DGSTATUS\"]\n",
    "nesarc_data[cols] = nesarc_data[cols].apply(pd.to_numeric)"
   ]
  },
  {
   "cell_type": "markdown",
   "metadata": {},
   "source": [
    "Check to see all columns are now a numeric data type."
   ]
  },
  {
   "cell_type": "code",
   "execution_count": 80,
   "metadata": {
    "collapsed": false
   },
   "outputs": [
    {
     "data": {
      "text/plain": [
       "WHITE              int64\n",
       "PARENTS_SPLIT      int64\n",
       "HIGHEST_GRADE      int64\n",
       "JOB_INDUSTRY     float64\n",
       "JOB_TYPE         float64\n",
       "DGSTATUS           int64\n",
       "dtype: object"
      ]
     },
     "execution_count": 80,
     "metadata": {},
     "output_type": "execute_result"
    }
   ],
   "source": [
    "#Check all columns are numeric data types\n",
    "nesarc_data.dtypes"
   ]
  },
  {
   "cell_type": "markdown",
   "metadata": {},
   "source": [
    "Remove all the NaNs"
   ]
  },
  {
   "cell_type": "code",
   "execution_count": 81,
   "metadata": {
    "collapsed": true
   },
   "outputs": [],
   "source": [
    "nesarc_data = nesarc_data.dropna()"
   ]
  },
  {
   "cell_type": "markdown",
   "metadata": {},
   "source": [
    "Select the predictors from the data."
   ]
  },
  {
   "cell_type": "code",
   "execution_count": 82,
   "metadata": {
    "collapsed": true
   },
   "outputs": [],
   "source": [
    "predictors = nesarc_data[[\"WHITE\",\"PARENTS_SPLIT\",\"HIGHEST_GRADE\",\"JOB_INDUSTRY\",\"JOB_TYPE\"]]"
   ]
  },
  {
   "cell_type": "markdown",
   "metadata": {},
   "source": [
    "Choose the \"Drug Status\" column as the target to predict for."
   ]
  },
  {
   "cell_type": "code",
   "execution_count": 83,
   "metadata": {
    "collapsed": true
   },
   "outputs": [],
   "source": [
    "targets = nesarc_data[[\"DGSTATUS\"]]"
   ]
  },
  {
   "cell_type": "markdown",
   "metadata": {},
   "source": [
    "Do a 60/40 split on the data to create the training and test datasets."
   ]
  },
  {
   "cell_type": "code",
   "execution_count": 84,
   "metadata": {
    "collapsed": true
   },
   "outputs": [],
   "source": [
    "pred_train, pred_test, tar_train, tar_test  =   train_test_split(predictors, targets, test_size=.4)"
   ]
  },
  {
   "cell_type": "markdown",
   "metadata": {},
   "source": [
    "After select various parameters, the ones chosen below seem to work best for the creating the Decision Tree."
   ]
  },
  {
   "cell_type": "code",
   "execution_count": 85,
   "metadata": {
    "collapsed": true
   },
   "outputs": [],
   "source": [
    "#Build model on training data\n",
    "classifier=DecisionTreeClassifier(max_depth = 3, min_samples_split = 5, random_state = 1)\n",
    "classifier=classifier.fit(pred_train,tar_train)"
   ]
  },
  {
   "cell_type": "markdown",
   "metadata": {},
   "source": [
    "Run the prediction on the test data and check how well it performs."
   ]
  },
  {
   "cell_type": "code",
   "execution_count": 86,
   "metadata": {
    "collapsed": false
   },
   "outputs": [
    {
     "data": {
      "text/plain": [
       "array([[8906,    0],\n",
       "       [2863,    0]])"
      ]
     },
     "execution_count": 86,
     "metadata": {},
     "output_type": "execute_result"
    }
   ],
   "source": [
    "predictions=classifier.predict(pred_test)\n",
    "sklearn.metrics.confusion_matrix(tar_test,predictions)"
   ]
  },
  {
   "cell_type": "code",
   "execution_count": 87,
   "metadata": {
    "collapsed": false
   },
   "outputs": [
    {
     "data": {
      "text/plain": [
       "0.75673379216585945"
      ]
     },
     "execution_count": 87,
     "metadata": {},
     "output_type": "execute_result"
    }
   ],
   "source": [
    "\n",
    "sklearn.metrics.accuracy_score(tar_test, predictions)"
   ]
  },
  {
   "cell_type": "markdown",
   "metadata": {},
   "source": [
    "Feature importance"
   ]
  },
  {
   "cell_type": "code",
   "execution_count": 88,
   "metadata": {
    "collapsed": false
   },
   "outputs": [
    {
     "data": {
      "text/plain": [
       "array([ 0.20332437,  0.42632954,  0.35768807,  0.        ,  0.01265802])"
      ]
     },
     "execution_count": 88,
     "metadata": {},
     "output_type": "execute_result"
    }
   ],
   "source": [
    "classifier.feature_importances_"
   ]
  },
  {
   "cell_type": "markdown",
   "metadata": {},
   "source": [
    "## Dispaly the decision tree output"
   ]
  },
  {
   "cell_type": "code",
   "execution_count": 89,
   "metadata": {
    "collapsed": false
   },
   "outputs": [
    {
     "data": {
      "image/png": "[encoded data removed]",
      "text/plain": [
       "<IPython.core.display.Image object>"
      ]
     },
     "execution_count": 89,
     "metadata": {},
     "output_type": "execute_result"
    }
   ],
   "source": [
    "#Displaying the decision tree\n",
    "from sklearn import tree\n",
    "#from StringIO import StringIO\n",
    "from io import StringIO\n",
    "#from StringIO import StringIO \n",
    "from IPython.display import Image\n",
    "out = StringIO()\n",
    "tree.export_graphviz(classifier, out_file=out)\n",
    "import pydotplus\n",
    "graph=pydotplus.graph_from_dot_data(out.getvalue())\n",
    "Image(graph.create_png())"
   ]
  }
 ],
 "metadata": {
  "kernelspec": {
   "display_name": "Python 3",
   "language": "python",
   "name": "python3"
  },
  "language_info": {
   "codemirror_mode": {
    "name": "ipython",
    "version": 3
   },
   "file_extension": ".py",
   "mimetype": "text/x-python",
   "name": "python",
   "nbconvert_exporter": "python",
   "pygments_lexer": "ipython3",
   "version": "3.5.1"
  }
 },
 "nbformat": 4,
 "nbformat_minor": 0
}
