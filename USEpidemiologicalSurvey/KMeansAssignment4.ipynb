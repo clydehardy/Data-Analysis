{
 "cells": [
  {
   "cell_type": "markdown",
   "metadata": {},
   "source": [
    "# Assignment: Running a K-Means Cluster Analysis"
   ]
  },
  {
   "cell_type": "markdown",
   "metadata": {},
   "source": [
    "## Assignment 4 of Machine Learning for Data Analysis"
   ]
  },
  {
   "cell_type": "markdown",
   "metadata": {},
   "source": [
    "## Summary"
   ]
  },
  {
   "cell_type": "markdown",
   "metadata": {},
   "source": [
    "A k-means cluster analysis was conducted to identify the underlying subgroups of drug status based on 8 variables that represent characteristics that could have an impact on drug usage. Clustering variables included White ethnicity, parents split, age at split, which parent remained, highest grade achieved, the persons job industry, job type and employer type. All clustering variables were standardized to have a mean of 0 and a standard deviation of 1.\n",
    "\n",
    "Data were randomly split into a training set that included 70% of the observations (N=4141) and a test set that included 30% fo the observations (N=1775)."
   ]
  },
  {
   "cell_type": "markdown",
   "metadata": {},
   "source": [
    "<img src=\"KmeansElbow.png\" />"
   ]
  },
  {
   "cell_type": "markdown",
   "metadata": {},
   "source": [
    "The elbow curve was inconclusive and a 4 cluster model was selected for the analysis. \n",
    "\n",
    "Canonical discriminant analyses was used to reduce the 8 clustering variable down a few variables that accounted for most of the variance in the clustering variables. A scatterplot of the first four canonical variables by cluster (Figure 2 shown below) indicated that the observations in clusters 1 to 4 were densely packed with relatively low within cluster variance, and little overlap with the other clusters."
   ]
  },
  {
   "cell_type": "markdown",
   "metadata": {},
   "source": [
    "<img src=\"Kmeans.png\" />"
   ]
  },
  {
   "cell_type": "markdown",
   "metadata": {},
   "source": [
    "The means on the clustering variables showed that, compared to the other clusters, drug status in cluster 3 had high levels on the clustering variables white ethnicity but low levels on the rest. In cluster 4 the age at which parents split and white ethnicity had very high levels, which parent remained variable had a moderate level and the rest low. For clusters 1 and 2 the variables had very low levels.\n",
    "\n",
    "In order to externally validate the clusters, an Analysis of Variance (ANOVA) was conducting to test for significant differences between the clusters on drug status. A tukey test was used for post hoc comparisons between the clusters. The cluster means of clusters 1 and 2 were not significantly different and likewise for clusters 3 and 4. Individuals in clusters 3 and 4 had the highest likelihood of drug usage, and cluster 3 had the lowest likelihood of drug usage."
   ]
  },
  {
   "cell_type": "markdown",
   "metadata": {},
   "source": [
    "## Python Code"
   ]
  },
  {
   "cell_type": "code",
   "execution_count": 1,
   "metadata": {
    "collapsed": true
   },
   "outputs": [],
   "source": [
    "%matplotlib inline\n",
    "from pandas import Series, DataFrame\n",
    "import pandas as pd\n",
    "import numpy as np\n",
    "from mpl_toolkits.mplot3d import Axes3D\n",
    "import matplotlib.pylab as plt\n",
    "from sklearn.cross_validation import train_test_split\n",
    "from sklearn import preprocessing\n",
    "from sklearn.cluster import KMeans\n",
    "import statsmodels.formula.api as smf\n",
    "import statsmodels.stats.multicomp as multi "
   ]
  },
  {
   "cell_type": "markdown",
   "metadata": {},
   "source": [
    "Import the data and set the column names."
   ]
  },
  {
   "cell_type": "code",
   "execution_count": 2,
   "metadata": {
    "collapsed": true
   },
   "outputs": [],
   "source": [
    "nesarc_data = pd.read_csv(\"https://dl.dropboxusercontent.com/u/84673878/nesarc_output_cut.csv\")\n",
    "cols = [\"WHITE\",\"PARENTS_SPLIT\",\"SPLIT_AGE\",\"WHICH_PARENT_REMAINED\",\"HIGHEST_GRADE\",\n",
    "        \"JOB_INDUSTRY\",\"JOB_TYPE\",\"EMPLOYER_TYPE\",\"DGSTATUS\"]\n",
    "nesarc_data.columns = cols"
   ]
  },
  {
   "cell_type": "markdown",
   "metadata": {},
   "source": [
    "Convert each column to numeric so that we can apply NaN to all missing values using the errors='coerce' argument, which will make it easier to drop the NaNs."
   ]
  },
  {
   "cell_type": "code",
   "execution_count": 3,
   "metadata": {
    "collapsed": true
   },
   "outputs": [],
   "source": [
    "nesarc_data = nesarc_data.apply(lambda x: pd.to_numeric(x,errors='coerce'))"
   ]
  },
  {
   "cell_type": "markdown",
   "metadata": {},
   "source": [
    "Check the data types"
   ]
  },
  {
   "cell_type": "code",
   "execution_count": 4,
   "metadata": {
    "collapsed": false
   },
   "outputs": [
    {
     "data": {
      "text/plain": [
       "WHITE                      int64\n",
       "PARENTS_SPLIT              int64\n",
       "SPLIT_AGE                float64\n",
       "WHICH_PARENT_REMAINED    float64\n",
       "HIGHEST_GRADE              int64\n",
       "JOB_INDUSTRY             float64\n",
       "JOB_TYPE                 float64\n",
       "EMPLOYER_TYPE            float64\n",
       "DGSTATUS                   int64\n",
       "dtype: object"
      ]
     },
     "execution_count": 4,
     "metadata": {},
     "output_type": "execute_result"
    }
   ],
   "source": [
    "nesarc_data.dtypes"
   ]
  },
  {
   "cell_type": "markdown",
   "metadata": {},
   "source": [
    "Remove the NaNs"
   ]
  },
  {
   "cell_type": "code",
   "execution_count": 5,
   "metadata": {
    "collapsed": true
   },
   "outputs": [],
   "source": [
    "nesarc_data = nesarc_data.dropna()"
   ]
  },
  {
   "cell_type": "markdown",
   "metadata": {},
   "source": [
    "Convert the target to a binary variable, 0 = never used drugs, 1 = current or past drug user"
   ]
  },
  {
   "cell_type": "code",
   "execution_count": 6,
   "metadata": {
    "collapsed": true
   },
   "outputs": [],
   "source": [
    "row_index = nesarc_data.DGSTATUS == 3\n",
    "nesarc_data.loc[row_index, 'DGSTATUS'] = 0\n",
    "row_index = nesarc_data.DGSTATUS == 2\n",
    "nesarc_data.loc[row_index, 'DGSTATUS'] = 1"
   ]
  },
  {
   "cell_type": "markdown",
   "metadata": {},
   "source": [
    "Subset clustering variables"
   ]
  },
  {
   "cell_type": "code",
   "execution_count": 7,
   "metadata": {
    "collapsed": true
   },
   "outputs": [],
   "source": [
    "cluster = nesarc_data[[\"WHITE\",\"PARENTS_SPLIT\",\"SPLIT_AGE\",\"WHICH_PARENT_REMAINED\",\n",
    "                          \"HIGHEST_GRADE\",\"JOB_INDUSTRY\",\"JOB_TYPE\",\"EMPLOYER_TYPE\"]]\n",
    "dgstatus = nesarc_data['DGSTATUS']"
   ]
  },
  {
   "cell_type": "markdown",
   "metadata": {},
   "source": [
    "Using a lambda expression convert to float and scale each feature in the data frame"
   ]
  },
  {
   "cell_type": "code",
   "execution_count": 8,
   "metadata": {
    "collapsed": true
   },
   "outputs": [],
   "source": [
    "cluster = cluster.apply(lambda x: preprocessing.scale(x.astype('float64')))"
   ]
  },
  {
   "cell_type": "markdown",
   "metadata": {},
   "source": [
    "Split the data into train and test sets"
   ]
  },
  {
   "cell_type": "code",
   "execution_count": 9,
   "metadata": {
    "collapsed": true
   },
   "outputs": [],
   "source": [
    "clus_train, clus_test = train_test_split(cluster, test_size=.3, random_state=123)"
   ]
  },
  {
   "cell_type": "markdown",
   "metadata": {},
   "source": [
    "K-Means cluster analysis for 1-9 clusters "
   ]
  },
  {
   "cell_type": "code",
   "execution_count": 10,
   "metadata": {
    "collapsed": true
   },
   "outputs": [],
   "source": [
    "from scipy.spatial.distance import cdist\n",
    "clusters=range(1,10)\n",
    "meandist=[]\n",
    "\n",
    "for k in clusters:\n",
    "    model=KMeans(n_clusters=k)\n",
    "    model.fit(clus_train)\n",
    "    clusassign=model.predict(clus_train)\n",
    "    meandist.append(sum(np.min(cdist(clus_train, model.cluster_centers_, 'euclidean'), axis=1)) \n",
    "    / clus_train.shape[0])"
   ]
  },
  {
   "cell_type": "markdown",
   "metadata": {},
   "source": [
    "Plot average distance from observations from the cluster centroid\n",
    "to use the Elbow Method to identify number of clusters to choose"
   ]
  },
  {
   "cell_type": "code",
   "execution_count": 11,
   "metadata": {
    "collapsed": false
   },
   "outputs": [
    {
     "data": {
      "text/plain": [
       "<matplotlib.text.Text at 0xb8db4a8>"
      ]
     },
     "execution_count": 11,
     "metadata": {},
     "output_type": "execute_result"
    },
    {
     "data": {
      "image/png": "[encoded data removed]",
      "text/plain": [
       "<matplotlib.figure.Figure at 0xb5b7da0>"
      ]
     },
     "metadata": {},
     "output_type": "display_data"
    }
   ],
   "source": [
    "plt.plot(clusters, meandist)\n",
    "plt.xlabel('Number of clusters')\n",
    "plt.ylabel('Average distance')\n",
    "plt.title('Selecting k with the Elbow Method')"
   ]
  },
  {
   "cell_type": "markdown",
   "metadata": {},
   "source": [
    "Interpret 4 cluster solution"
   ]
  },
  {
   "cell_type": "code",
   "execution_count": 12,
   "metadata": {
    "collapsed": false
   },
   "outputs": [],
   "source": [
    "kmodel=KMeans(n_clusters=4)\n",
    "kmodel.fit(clus_train)\n",
    "clusassign=kmodel.predict(clus_train)"
   ]
  },
  {
   "cell_type": "markdown",
   "metadata": {},
   "source": [
    "Plot clusters"
   ]
  },
  {
   "cell_type": "code",
   "execution_count": 14,
   "metadata": {
    "collapsed": false
   },
   "outputs": [
    {
     "data": {
      "image/png": "[encoded data removed]",
      "text/plain": [
       "<matplotlib.figure.Figure at 0xb966c18>"
      ]
     },
     "metadata": {},
     "output_type": "display_data"
    }
   ],
   "source": [
    "from sklearn.decomposition import PCA\n",
    "pca_3 = PCA(3)\n",
    "plot_columns = pca_3.fit_transform(clus_train)\n",
    "fig = plt.figure()\n",
    "ax = fig.add_subplot(111, projection='3d')\n",
    "ax.scatter(xs=plot_columns[:,0], ys=plot_columns[:,1], zs=plot_columns[:,2],c=kmodel.labels_,)\n",
    "plt.title('Scatterplot of Canonical Variables for 4 Clusters')\n",
    "plt.show()"
   ]
  },
  {
   "cell_type": "markdown",
   "metadata": {
    "collapsed": true
   },
   "source": [
    "BEGIN multiple steps to merge cluster assignment with clustering variables to examine\n",
    "cluster variable means by cluster\n",
    "Create a unique identifier variable from the index for the \n",
    "Cluster training data to merge with the cluster assignment variable"
   ]
  },
  {
   "cell_type": "code",
   "execution_count": 15,
   "metadata": {
    "collapsed": true
   },
   "outputs": [],
   "source": [
    "clus_train.reset_index(level=0, inplace=True)\n",
    "cluslist=list(clus_train['index'])\n",
    "labels=list(kmodel.labels_)\n",
    "newlist=dict(zip(cluslist, labels))\n",
    "newclus=DataFrame.from_dict(newlist, orient='index')\n",
    "newclus.columns = ['cluster']\n",
    "newclus.reset_index(level=0, inplace=True)\n",
    "merged_train=pd.merge(clus_train, newclus, on='index')"
   ]
  },
  {
   "cell_type": "markdown",
   "metadata": {},
   "source": [
    "END multiple steps to merge cluster assignment with clustering variables to examine\n",
    "cluster variable means by cluster"
   ]
  },
  {
   "cell_type": "code",
   "execution_count": 16,
   "metadata": {
    "collapsed": false
   },
   "outputs": [
    {
     "name": "stdout",
     "output_type": "stream",
     "text": [
      "Clustering variable means by cluster\n",
      "                index     WHITE  PARENTS_SPLIT  SPLIT_AGE  \\\n",
      "cluster                                                     \n",
      "0        17935.312917 -0.585164            0.0  -0.165936   \n",
      "1        18648.313094 -0.579288            0.0  -0.149855   \n",
      "2        19089.041502  1.696863            0.0  -0.162046   \n",
      "3        21099.681416  0.806667            0.0   5.731927   \n",
      "\n",
      "         WHICH_PARENT_REMAINED  HIGHEST_GRADE  JOB_INDUSTRY  JOB_TYPE  \\\n",
      "cluster                                                                 \n",
      "0                     0.139442      -0.503319     -0.640098  0.430316   \n",
      "1                    -0.106780       0.684692      0.718410 -0.572250   \n",
      "2                    -0.092088      -0.054507      0.111234  0.061910   \n",
      "3                     0.384805      -0.128089     -0.063650  0.148696   \n",
      "\n",
      "         EMPLOYER_TYPE  \n",
      "cluster                 \n",
      "0            -0.288972  \n",
      "1             0.371137  \n",
      "2             0.031486  \n",
      "3             0.003194  \n"
     ]
    }
   ],
   "source": [
    "clustergrp = merged_train.groupby('cluster').mean()\n",
    "print (\"Clustering variable means by cluster\")\n",
    "print(clustergrp)"
   ]
  },
  {
   "cell_type": "markdown",
   "metadata": {},
   "source": [
    "Validate clusters in training data by examining cluster differences in GPA using ANOVA\n",
    "First we have to merge GPA with clustering variables and cluster assignment data "
   ]
  },
  {
   "cell_type": "code",
   "execution_count": 17,
   "metadata": {
    "collapsed": false
   },
   "outputs": [],
   "source": [
    "# split DGStatus data into train and test sets\n",
    "dg_train, dg_test = train_test_split(dgstatus, test_size=.3, random_state=123)\n",
    "dg_train1=pd.DataFrame(dg_train)\n",
    "dg_train1.reset_index(level=0, inplace=True)\n",
    "merged_train_all=pd.merge(dg_train1, merged_train, on='index')\n",
    "sub1 = merged_train_all[['DGSTATUS', 'cluster']].dropna()"
   ]
  },
  {
   "cell_type": "code",
   "execution_count": 18,
   "metadata": {
    "collapsed": false
   },
   "outputs": [
    {
     "name": "stdout",
     "output_type": "stream",
     "text": [
      "                            OLS Regression Results                            \n",
      "==============================================================================\n",
      "Dep. Variable:               DGSTATUS   R-squared:                       0.014\n",
      "Model:                            OLS   Adj. R-squared:                  0.013\n",
      "Method:                 Least Squares   F-statistic:                     19.43\n",
      "Date:                Sun, 10 Jul 2016   Prob (F-statistic):           1.66e-12\n",
      "Time:                        20:51:43   Log-Likelihood:                -2773.0\n",
      "No. Observations:                4141   AIC:                             5554.\n",
      "Df Residuals:                    4137   BIC:                             5579.\n",
      "Df Model:                           3                                         \n",
      "Covariance Type:            nonrobust                                         \n",
      "===================================================================================\n",
      "                      coef    std err          t      P>|t|      [95.0% Conf. Int.]\n",
      "-----------------------------------------------------------------------------------\n",
      "Intercept           0.3918      0.012     33.638      0.000         0.369     0.415\n",
      "C(cluster)[T.1]    -0.0253      0.017     -1.460      0.144        -0.059     0.009\n",
      "C(cluster)[T.2]    -0.1289      0.019     -6.826      0.000        -0.166    -0.092\n",
      "C(cluster)[T.3]    -0.1794      0.046     -3.900      0.000        -0.270    -0.089\n",
      "==============================================================================\n",
      "Omnibus:                      230.455   Durbin-Watson:                   1.987\n",
      "Prob(Omnibus):                  0.000   Jarque-Bera (JB):              684.533\n",
      "Skew:                           0.626   Prob(JB):                    2.27e-149\n",
      "Kurtosis:                       1.450   Cond. No.                         6.88\n",
      "==============================================================================\n",
      "\n",
      "Warnings:\n",
      "[1] Standard Errors assume that the covariance matrix of the errors is correctly specified.\n"
     ]
    }
   ],
   "source": [
    "gpamod = smf.ols(formula='DGSTATUS ~ C(cluster)', data=sub1).fit()\n",
    "print (gpamod.summary())"
   ]
  },
  {
   "cell_type": "code",
   "execution_count": 19,
   "metadata": {
    "collapsed": false
   },
   "outputs": [
    {
     "name": "stdout",
     "output_type": "stream",
     "text": [
      "means for DGStatus by cluster\n",
      "         DGSTATUS\n",
      "cluster          \n",
      "0        0.391753\n",
      "1        0.366496\n",
      "2        0.262846\n",
      "3        0.212389\n"
     ]
    }
   ],
   "source": [
    "print ('means for DGStatus by cluster')\n",
    "m1= sub1.groupby('cluster').mean()\n",
    "print (m1)"
   ]
  },
  {
   "cell_type": "code",
   "execution_count": 20,
   "metadata": {
    "collapsed": false
   },
   "outputs": [
    {
     "name": "stdout",
     "output_type": "stream",
     "text": [
      "standard deviations for DGStaus by cluster\n",
      "         DGSTATUS\n",
      "cluster          \n",
      "0        0.488290\n",
      "1        0.482023\n",
      "2        0.440397\n",
      "3        0.410821\n"
     ]
    }
   ],
   "source": [
    "print ('standard deviations for DGStaus by cluster')\n",
    "m2= sub1.groupby('cluster').std()\n",
    "print (m2)"
   ]
  },
  {
   "cell_type": "code",
   "execution_count": 21,
   "metadata": {
    "collapsed": false
   },
   "outputs": [
    {
     "name": "stdout",
     "output_type": "stream",
     "text": [
      "Multiple Comparison of Means - Tukey HSD,FWER=0.05\n",
      "=============================================\n",
      "group1 group2 meandiff  lower   upper  reject\n",
      "---------------------------------------------\n",
      "  0      1    -0.0253  -0.0697  0.0192 False \n",
      "  0      2    -0.1289  -0.1774 -0.0804  True \n",
      "  0      3    -0.1794  -0.2976 -0.0612  True \n",
      "  1      2    -0.1037  -0.1541 -0.0532  True \n",
      "  1      3    -0.1541  -0.2731 -0.0351  True \n",
      "  2      3    -0.0505   -0.171  0.0701 False \n",
      "---------------------------------------------\n"
     ]
    }
   ],
   "source": [
    "mc1 = multi.MultiComparison(sub1['DGSTATUS'], sub1['cluster'])\n",
    "res1 = mc1.tukeyhsd()\n",
    "print(res1.summary())"
   ]
  }
 ],
 "metadata": {
  "kernelspec": {
   "display_name": "Python 3",
   "language": "python",
   "name": "python3"
  },
  "language_info": {
   "codemirror_mode": {
    "name": "ipython",
    "version": 3
   },
   "file_extension": ".py",
   "mimetype": "text/x-python",
   "name": "python",
   "nbconvert_exporter": "python",
   "pygments_lexer": "ipython3",
   "version": "3.5.1"
  }
 },
 "nbformat": 4,
 "nbformat_minor": 0
}
